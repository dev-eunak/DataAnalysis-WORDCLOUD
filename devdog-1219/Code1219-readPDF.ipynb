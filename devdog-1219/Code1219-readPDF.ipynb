{
 "cells": [
  {
   "cell_type": "code",
   "execution_count": 1,
   "metadata": {},
   "outputs": [],
   "source": [
    "import docx\n",
    "from PyPDF2 import PdfFileReader\n",
    "import olefile  #hwp\n",
    "import os"
   ]
  },
  {
   "cell_type": "code",
   "execution_count": 2,
   "metadata": {},
   "outputs": [],
   "source": [
    "#pdfminer - 한글 읽기 용\n",
    "from pdfminer.pdfinterp import PDFResourceManager, PDFPageInterpreter\n",
    "from pdfminer.converter import TextConverter\n",
    "from pdfminer.layout import LAParams\n",
    "from pdfminer.pdfpage import PDFPage\n",
    "from io import StringIO"
   ]
  },
  {
   "cell_type": "code",
   "execution_count": 3,
   "metadata": {},
   "outputs": [],
   "source": [
    "def getTextPDF(pdfFileName):\n",
    "    with open(pdfFileName, 'rb') as f:\n",
    "        read_pdf = PdfFileReader(f)  \n",
    "        text = []\n",
    "        for i in range(0, read_pdf.getNumPages()):\n",
    "            text.append(read_pdf.getPage(i).extractText())\n",
    "    return '\\n'.join(text)"
   ]
  },
  {
   "cell_type": "code",
   "execution_count": 4,
   "metadata": {},
   "outputs": [],
   "source": [
    "# 한국어를 다룰 때 사용\n",
    "# 아래 함수는 인터넷에서 가져온 것.\n",
    "# 한글 데이터를 손실 없이 가져올 수 있는 이유는 TXT로 변환 후 가져오기 때문으로 보임.\n",
    "def convert_pdf_to_txt(file):\n",
    "    #pdf리소스 매니저 객체 생성\n",
    "    rsrcmgr = PDFResourceManager()\n",
    "    #문자열 데이터를 파일처럼 처리하는 stringio -> pdf 파일 내용이 여기 담김\n",
    "    retstr = StringIO()\n",
    "    codec = 'utf-8'\n",
    "    laparams = LAParams()\n",
    "    device = TextConverter(rsrcmgr, retstr, laparams=laparams)\n",
    "    with open(file, 'rb') as f:\n",
    "        interpreter = PDFPageInterpreter(rsrcmgr, device)\n",
    "        pagenos=set()\n",
    "        for page in PDFPage.get_pages(f, pagenos):\n",
    "            interpreter.process_page(page)\n",
    "        #text에 결과가 담김\n",
    "        text = retstr.getvalue()\n",
    "    device.close()\n",
    "    retstr.close()\n",
    "    return text"
   ]
  },
  {
   "cell_type": "code",
   "execution_count": 5,
   "metadata": {},
   "outputs": [],
   "source": [
    "pdf1 = getTextPDF('data1219\\\\2020_수능영어.pdf')\n",
    "pdf1_1 = getTextPDF('data1219\\\\2020_수능국어.pdf')\n",
    "pdf2 = convert_pdf_to_txt('data1219\\\\2020_수능영어.pdf')"
   ]
  },
  {
   "cell_type": "code",
   "execution_count": 6,
   "metadata": {},
   "outputs": [
    {
     "data": {
      "text/plain": [
       "'\\nju\\n\\nbÐZÍ\\n\\nYíu™\\n\\nOkay. I™ll send the ad\\ndress to your phone.Yes. I™ll have your dress cleaned by noon.\\nOf course. I™ll open \\nthe shop tomorrow.\\nNo. I™m not moving to a new place.\\nToo late. I™m already back at home.\\nbÐZÍ\\n\\nYíu™\\n\\n\\n\\nUnbelievable. I™m really go\\ning to be on stage today.\\nAbsolutely. I™m so eager to\\n see him sing in person.\\nNot really. He wasn™t as amazing as I expected.\\nSure. I™ll find someone else to perform instead.\\nOh, no. You shouldn™t have\\n missed his performance.bÐZÍ\\n\\nZpu1\\n\\n\\n\\n\\n\\n\\nbÐZÍ\\n\\n\\nzöw±…I`Ñ\\nuu`Ñ\\n\\n\\nt†ueua`Ñ\\nbÐZÍ\\n\\n\\nZÑ{Œ…Fu}…FnÊ\\nnŽw±u~Yí_zkm\\nt†gŽnŽ†¶fMYí\\na²u}bÐZÍ\\n\\ns7`†\\nZpu1\\n\\nbÐZÍ\\n\\n\\n\\n\\\\˛km…E\\\\˛\\nvíl1…E\\\\˛\\nzıoy…E\\\\˛\\n`í—AbÐZÍ\\n\\n^Łu}Yít†gŽ`íz%Yígi†Ù\\\\˛ZÍgapÉ\\n\\n\\n\\n\\n\\nbÐZÍ\\n\\n\\n\\nuý$72$74$76$78$80bÐZÍ\\n\\nTen Year Class Reunion Party\\n\\ns7u-\\n\\nu™oy^“wÉ—yl1u9pÊ\\\\˛_=‡uGreen Ocean\\nbÐZÍ\\n\\nui|Es7`†\\n\\n\\n100\\n\\n4Zpua`Ñ\\nuu`Ñ\\n\\nZpua`Ñ\\n_1a±`í…F…F`™pÉ…Åi%\\n[=pÉ\\n\\n`Ñu9jáha`í—AbÐZÍ\\n\\nb=nŽsõ…ZZâ†¥u1\\nZÍ\\n\\nFlight\\nTicket Price\\nDeparture Time\\nArrival Airport\\nStops\\nA$6006:00 a.m.JFK\\n1 stopB$62510:00 a.m.\\nNewark\\nNonstop\\nC$7'"
      ]
     },
     "execution_count": 6,
     "metadata": {},
     "output_type": "execute_result"
    }
   ],
   "source": [
    "pdf1[:1000]"
   ]
  },
  {
   "cell_type": "code",
   "execution_count": 7,
   "metadata": {},
   "outputs": [
    {
     "data": {
      "text/plain": [
       "'ŽY\\ns5_B…Eo%t†\\n\\nsÙeÙkquEs¡c‚…1\\\\˛[YYíu™g»u-Yít†\\nbÐZÍ\\n\\n\\ng»[]t†\\n\\nnŽey\\nsMtŒ…M\\\\9t†\\n\\n\\n`Ñu™uýuup¢`µ`Ñ\\n\\n[åe–jé†›nŽeybÑ\\ng½ríbÉgŽZ“p¢`µ`Ñ\\nh)jéråc9vruakmkqua\\nuîp¢`µ`Ñ\\n\\nu™uýui\\\\9t†\\n\\nYígŽ\\n~‚h]\\njáZpjé†›nŽtŒuauñrÝg¹_1…1u-\\nhŁo%…ñn®s½uE…a––s7ZÍ[íuup¢`µ`Ñ\\n\\n…EZÍ\\n\\n\\npjp¢`µ`Ñ\\ns1\\n\\n\\nwµi%\\nbÐZÍ\\n\\nu–\\njáuavruaYí`íf^uEsÚ…Mc9i%s½\\npjZy\\n…1\\\\˛uuZn`µ`Ñ\\n\\nua^–t†\\n\\nzıvþ^1aBua`†\\njáZÍ\\n\\n\\nYíZ“p¢`µ`Ñ\\nu}f¹\\nYígŽ~‚h]\\n\\njápÉZpjé†›u-råjéZé\\n\\n\\nuv~YYí\\nvruai(u)qUw¾`µ`Ñ\\n\\n[åeÝjé†›lMZª…Åua\\nuuu)pÉvÍ\\n\\nYígŽ~‚h]\\n\\njé†›u-\\nuv~YbÑs¡Yõ`í^Js½jékmkqjéua\\n…E`†a]t†\\n\\n\\nuup¢`µ`Ñ\\n\\nuus¡vxp¢`µ`Ñ\\n\\n[íu}i)s½s7`†jé†›\\n\\n…1\\\\˛Yýua\\njé†›\\n\\njé†›\\n\\n\\nrÝuujé†›\\n\\ntšvénŽtŒuuYíbÞ\\n\\nn®tŒ—A\\n\\\\˛va…1\\\\˛`Õját1…EnŽey`Ñs~…It†[Ygi\\n]¥ví–unŽtŒuup¢`µ`Ñ\\n\\n\\n\\njé†›nŽeybÑs½Zy\\ng½ríbÉf%p¢`µ`Ñ\\n\\nYýnŽ…V`µ`Ñ\\ns7u-Zpu-‡Iuu`Ñ\\nuu`Ñ\\nuu`Ñ\\n^¡tŒpÍfšo˚tñuñi%YíZŽ…agiuetŒ…EZÍuu`Ñ\\n`í•¦wÂkmYî…E`Ñge`íl1[=uu`Ñ\\nu}f¹ua`Ñ\\n\\nc9\\n\\nZpu-\\n\\nuýu}f¹\\nu}f¹\\n\\n\\n…ñn®\\n‡IhauEZ]c˛eihŁo%Zí\\n…ñn®uauis¡^–`†gi\\ntñ…a\\njé†›\\n`Õ\\n\\ntñ…a\\n\\n\\nt½gŽ\\n—B`í\\n\\ni(`†\\ntñ…a\\njé†›\\n\\n\\njé†›uEjéYíZâ…E`†\\nvé\\\\˛\\ntñ…ajé†›uv~Yvéur\\n\\n…I\\n\\n\\n\\n`ífItñ…a\\nc9\\n\\nZpu-\\n\\nhŁo%Zí\\nuu^–t†\\nuu`†\\nuu^–t†\\ns¡'"
      ]
     },
     "execution_count": 7,
     "metadata": {},
     "output_type": "execute_result"
    }
   ],
   "source": [
    "pdf1_1[:1000]"
   ]
  },
  {
   "cell_type": "code",
   "execution_count": 8,
   "metadata": {},
   "outputs": [
    {
     "data": {
      "text/plain": [
       "'2020학년도 대학수학능력시험 문제지\\n\\n제 3 교시\\n\\n1\\n\\n홀수형\\n\\n  1번부터  17번까지는  듣고  답하는  문제입니다.  1번부터 \\n\\n15번까지는  한  번만  들려주고,  16번부터  17번까지는  두  번 \\n\\n고르시오. \\n\\n들려줍니다. 방송을 잘 듣고 답을 하시기 바랍니다.\\n\\n6. 대화를  듣고,  그림에서  대화의  내용과  일치하지  않는  것을 \\n\\n2. 대화를 듣고,  여자의 마지막 말에 대한 남자의 응답으로 가장 \\n\\n7. 대화를 듣고,  여자가 할 일로 가장 적절한 것을 고르시오.\\n\\n1. 대화를 듣고,  남자의 마지막 말에 대한 여자의 응답으로 가장 \\n\\n적절한 것을 고르시오.\\n① Okay. I’ll send the address to your phone.\\n② Yes. I’ll have your dress cleaned by noon.\\n③ Of course. I’ll open the shop tomorrow.\\n④ No. I’m not moving to a new place.\\n⑤ Too late. I’m already back at home.\\n\\n적절한 것을 고르시오. \\n① Unbelievable. I’m really going to be on stage today.\\n② Absolutely. I’m so eager to see him sing in person.\\n③ Not really. He wasn’t as amazing as I expected.\\n④ Sure. I’ll find someone else to perform instead.\\n⑤ Oh, no. You shouldn’t have missed his performance.\\n\\n3. 다음을  듣고,  남자가  하는  말의  목적으로  가장  적절한  것을 \\n\\n고르시오.\\n\\n① 백화점 주말 특별 행사를 안내하려고\\n\\n② 백화점 층별 신규 매장을 소개하려고\\n\\n③ 주차장 이용 요금 변경을 공지하려고\\n④ 고객 만족도 조사 참여를 요청하려고\\n\\n⑤ 백화점 회원 가입 방법을 설명하려고\\n\\n4. 대화를 듣고,  '"
      ]
     },
     "execution_count": 8,
     "metadata": {},
     "output_type": "execute_result"
    }
   ],
   "source": [
    "pdf2[:1000]"
   ]
  }
 ],
 "metadata": {
  "kernelspec": {
   "display_name": "Python 3",
   "language": "python",
   "name": "python3"
  },
  "language_info": {
   "codemirror_mode": {
    "name": "ipython",
    "version": 3
   },
   "file_extension": ".py",
   "mimetype": "text/x-python",
   "name": "python",
   "nbconvert_exporter": "python",
   "pygments_lexer": "ipython3",
   "version": "3.7.3"
  }
 },
 "nbformat": 4,
 "nbformat_minor": 2
}
