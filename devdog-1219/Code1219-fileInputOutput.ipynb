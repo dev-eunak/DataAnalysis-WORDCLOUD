{
 "cells": [
  {
   "cell_type": "markdown",
   "metadata": {},
   "source": [
    "## 1. __텍스트 파일의 데이터를 읽고 처리하기__\n",
    "+ __데이터 파일 준비 및 읽기__\n",
    "\n",
    "<pre style=\"background: rgb(230, 230, 230); padding: 0.8rem; display:inline-block; font-size: 15x;\">\n",
    "1. 데이터: 어느 커피 전문점에서 나흘 동안 기록한 메뉴별 커피 판매량\n",
    "2. 원하는 작업: 나흘 동안 메뉴당 전체 판매량과 하루 평균 판매량 구하기\n",
    "</pre>"
   ]
  },
  {
   "cell_type": "code",
   "execution_count": 1,
   "metadata": {},
   "outputs": [
    {
     "name": "stdout",
     "output_type": "stream",
     "text": [
      "날짜   에스프레소   아메리카노   카페라테   카푸치노 \n",
      "12.15         10         50         45         20\n",
      "12.16         12         45         41         18\n",
      "12.17         12         53         32         25\n",
      "12.18         15         49         38         22\n"
     ]
    }
   ],
   "source": [
    "!type C:\\dogDataAnalysis\\devdog-1219\\coffeeShopSales.txt"
   ]
  },
  {
   "cell_type": "code",
   "execution_count": 2,
   "metadata": {},
   "outputs": [
    {
     "name": "stdout",
     "output_type": "stream",
     "text": [
      "날짜   에스프레소   아메리카노   카페라테   카푸치노 \n",
      "12.15         10         50         45         20\n",
      "12.16         12         45         41         18\n",
      "12.17         12         53         32         25\n",
      "12.18         15         49         38         22"
     ]
    }
   ],
   "source": [
    "file_name = 'C:\\dogDataAnalysis\\devdog-1219\\coffeeShopSales.txt'\n",
    "    \n",
    "f = open(file_name)\n",
    "for line in f:\n",
    "    print(line, end=\"\")\n",
    "f.close()"
   ]
  },
  {
   "cell_type": "markdown",
   "metadata": {},
   "source": [
    "+ __파일에서 읽은 문자열 데이터 처리__\n",
    "    1. 읽어온 문자열 데이터를 처리해서 원하는 작업을 수행하는 방법을 알아보겠습니다.\n",
    "    2. 우선 첫째줄에 있는 항목 이름을 가져와 빈칸을 기준으로 나누고, 두 번째 줄 이후의 항목 값을 처리하겠습니다."
   ]
  },
  {
   "cell_type": "markdown",
   "metadata": {},
   "source": [
    "1. 첫 번째 줄의 __항목 이름__을 가져오는 코드"
   ]
  },
  {
   "cell_type": "code",
   "execution_count": 3,
   "metadata": {},
   "outputs": [
    {
     "data": {
      "text/plain": [
       "'날짜   에스프레소   아메리카노   카페라테   카푸치노 \\n'"
      ]
     },
     "execution_count": 3,
     "metadata": {},
     "output_type": "execute_result"
    }
   ],
   "source": [
    "f = open(file_name)    # 파일 열기\n",
    "header = f.readline()  # 데이터의 첫 번째 줄을 읽음\n",
    "f.close()\n",
    "\n",
    "header"
   ]
  },
  {
   "cell_type": "markdown",
   "metadata": {},
   "source": [
    "1-1. __split() 메서드__를 호출해 첫 줄의 문자열에서 __항목 이름을 분리__해 리스트로 만듭니다."
   ]
  },
  {
   "cell_type": "code",
   "execution_count": 4,
   "metadata": {},
   "outputs": [
    {
     "data": {
      "text/plain": [
       "['날짜', '에스프레소', '아메리카노', '카페라테', '카푸치노']"
      ]
     },
     "execution_count": 4,
     "metadata": {},
     "output_type": "execute_result"
    }
   ],
   "source": [
    "header_list = header.split()\n",
    "header_list"
   ]
  },
  {
   "cell_type": "markdown",
   "metadata": {},
   "source": [
    "2. 다음으로 for문을 이용해 두 번째 줄 이후의 데이터를 앞에서와 같은 방법으로 반환해보겠습니다."
   ]
  },
  {
   "cell_type": "code",
   "execution_count": 5,
   "metadata": {},
   "outputs": [
    {
     "name": "stdout",
     "output_type": "stream",
     "text": [
      "['12.15', '10', '50', '45', '20']\n",
      "['12.16', '12', '45', '41', '18']\n",
      "['12.17', '12', '53', '32', '25']\n",
      "['12.18', '15', '49', '38', '22']\n"
     ]
    }
   ],
   "source": [
    "f = open(file_name)\n",
    "header = f.readline()\n",
    "header_list = header.split()\n",
    "\n",
    "for line in f:\n",
    "    data_list = line.split()\n",
    "    print(data_list)\n",
    "    \n",
    "f.close()"
   ]
  },
  {
   "cell_type": "markdown",
   "metadata": {},
   "source": [
    "3. data_list의 항목이 문자열로 돼 있습니다. 전체 판매량과 평균을 계산하려면 숫자로 바꿔야 합니다."
   ]
  },
  {
   "cell_type": "markdown",
   "metadata": {},
   "source": [
    "+ 지금까지 설명한 내용을 구현한 코드입니다."
   ]
  },
  {
   "cell_type": "code",
   "execution_count": 6,
   "metadata": {},
   "outputs": [
    {
     "name": "stdout",
     "output_type": "stream",
     "text": [
      "에스프레소: [10, 12, 12, 15]\n",
      "아메리카노: [50, 45, 53, 49]\n",
      "카페라테: [45, 41, 32, 38]\n",
      "카푸치노: [20, 18, 25, 22]\n"
     ]
    }
   ],
   "source": [
    "f = open(file_name)\n",
    "header = f.readline()\n",
    "headerList = header.split()\n",
    "\n",
    "# 커피 종류별로 빈 리스트 생성\n",
    "espresso = []\n",
    "americano = []\n",
    "cafelatte = []\n",
    "cappucino = []\n",
    "\n",
    "for line in f:\n",
    "    dataList = line.split()    # 문자열에서 공백을 제거해서 문자열 리스트로 변환\n",
    "    \n",
    "    # 커피 종류별로 정수로 변환한 후, 리스트의 항목으로 추가\n",
    "    espresso.append(int(dataList[1]))\n",
    "    americano.append(int(dataList[2]))\n",
    "    cafelatte.append(int(dataList[3]))\n",
    "    cappucino.append(int(dataList[4]))\n",
    "    \n",
    "f.close()\n",
    "\n",
    "print(\"{0}: {1}\".format(headerList[1], espresso))\n",
    "print(\"{0}: {1}\".format(headerList[2], americano))\n",
    "print(\"{0}: {1}\".format(headerList[3], cafelatte))\n",
    "print(\"{0}: {1}\".format(headerList[4], cappucino))"
   ]
  },
  {
   "cell_type": "code",
   "execution_count": 7,
   "metadata": {},
   "outputs": [
    {
     "name": "stdout",
     "output_type": "stream",
     "text": [
      "[에스프레소] 판매량\n",
      "- 나흘 전체: 49, 하루 평균: 12.25\n",
      "[아메리카노] 판매량\n",
      "- 나흘 전체: 197, 하루 평균: 49.25\n",
      "[카페라테] 판매량\n",
      "- 나흘 전체: 156, 하루 평균: 39.0\n",
      "[카푸치노] 판매량\n",
      "- 나흘 전체: 85, 하루 평균: 21.25\n"
     ]
    }
   ],
   "source": [
    "total_sum = [sum(espresso), sum(americano), sum(cafelatte), sum(cappucino)]\n",
    "total_mean = [sum(espresso)/len(espresso), sum(americano)/len(americano),\n",
    "              sum(cafelatte)/len(cafelatte), sum(cappucino)/len(cappucino)]\n",
    "\n",
    "for k in range(len(total_sum)):\n",
    "    print(\"[{0}] 판매량\".format(headerList[k+1]))\n",
    "    print(\"- 나흘 전체: {0}, 하루 평균: {1}\".format(total_sum[k], total_mean[k]))"
   ]
  },
  {
   "cell_type": "markdown",
   "metadata": {},
   "source": [
    "+ with문을 이용한 파일 읽기"
   ]
  },
  {
   "cell_type": "code",
   "execution_count": 8,
   "metadata": {},
   "outputs": [
    {
     "name": "stdout",
     "output_type": "stream",
     "text": [
      "날짜   에스프레소   아메리카노   카페라테   카푸치노 \n",
      "12.15         10         50         45         20\n",
      "12.16         12         45         41         18\n",
      "12.17         12         53         32         25\n",
      "12.18         15         49         38         22\n"
     ]
    }
   ],
   "source": [
    "with open('C:\\dogDataAnalysis\\devdog-1219\\coffeeShopSales.txt') as f:\n",
    "    file_string = f.read()\n",
    "    print(file_string)"
   ]
  }
 ],
 "metadata": {
  "kernelspec": {
   "display_name": "Python 3",
   "language": "python",
   "name": "python3"
  },
  "language_info": {
   "codemirror_mode": {
    "name": "ipython",
    "version": 3
   },
   "file_extension": ".py",
   "mimetype": "text/x-python",
   "name": "python",
   "nbconvert_exporter": "python",
   "pygments_lexer": "ipython3",
   "version": "3.7.3"
  }
 },
 "nbformat": 4,
 "nbformat_minor": 2
}
